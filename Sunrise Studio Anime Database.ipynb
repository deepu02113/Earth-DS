{
 "cells": [
  {
   "cell_type": "code",
   "execution_count": 23,
   "metadata": {},
   "outputs": [],
   "source": [
    "# Importing required libraries for Web Scrapping\n",
    "import requests\n",
    "from bs4 import BeautifulSoup"
   ]
  },
  {
   "cell_type": "code",
   "execution_count": 25,
   "metadata": {},
   "outputs": [],
   "source": [
    "# Creating an empty list of fields\n",
    "anime_title=[]\n",
    "ratings=[]\n",
    "users=[]"
   ]
  },
  {
   "cell_type": "code",
   "execution_count": 26,
   "metadata": {},
   "outputs": [],
   "source": [
    "##Extracting Anime_title by iterating through all pages\n",
    "for page_number in range(1,6):\n",
    "    page_response=requests.get(f'https://myanimelist.net/anime/producer/14/Sunrise?page={page_number}')\n",
    "    page_soup=BeautifulSoup(page_response.text,'html.parser')\n",
    "    titles=page_soup.find_all('a',{\"class\":\"link-title\"})\n",
    "    for title in titles:\n",
    "        anime_title.append(title.text)"
   ]
  },
  {
   "cell_type": "code",
   "execution_count": 27,
   "metadata": {},
   "outputs": [],
   "source": [
    "### Extracting Ratings\n",
    "for page_number in range(1,6):\n",
    "    page_response=requests.get(f'https://myanimelist.net/anime/producer/14/Sunrise?page={page_number}')\n",
    "    page_soup=BeautifulSoup(page_response.text,'html.parser')\n",
    "    rates=page_soup.find_all('span',{\"class\":\"score\"})\n",
    "    for rate in rates:\n",
    "        ratings.append(rate.text)"
   ]
  },
  {
   "cell_type": "code",
   "execution_count": 28,
   "metadata": {},
   "outputs": [],
   "source": [
    "###Extracting Users\n",
    "for page_number in range(1,6):\n",
    "    page_response=requests.get(f'https://myanimelist.net/anime/producer/14/Sunrise?page={page_number}')\n",
    "    page_soup=BeautifulSoup(page_response.text,'html.parser')\n",
    "    members=page_soup.find_all('span',{\"class\":\"member fl-r\"})\n",
    "    for member in members:\n",
    "        users.append(member.text)"
   ]
  },
  {
   "cell_type": "code",
   "execution_count": 29,
   "metadata": {},
   "outputs": [],
   "source": [
    "#Pandas to create Dataframe and concat all fields\n",
    "import pandas as pd"
   ]
  },
  {
   "cell_type": "code",
   "execution_count": 30,
   "metadata": {},
   "outputs": [],
   "source": [
    "df1=pd.DataFrame(anime_title,columns=['Anime'])\n",
    "df2=pd.DataFrame(ratings,columns=['Score'])\n",
    "df3=pd.DataFrame(users,columns=['Members'])"
   ]
  },
  {
   "cell_type": "code",
   "execution_count": 31,
   "metadata": {},
   "outputs": [],
   "source": [
    "frame=[df1,df2,df3]"
   ]
  },
  {
   "cell_type": "code",
   "execution_count": 32,
   "metadata": {},
   "outputs": [],
   "source": [
    "Sunrise_DB=pd.concat(frame,axis=1)"
   ]
  },
  {
   "cell_type": "code",
   "execution_count": 33,
   "metadata": {},
   "outputs": [
    {
     "data": {
      "text/html": [
       "<div>\n",
       "<style scoped>\n",
       "    .dataframe tbody tr th:only-of-type {\n",
       "        vertical-align: middle;\n",
       "    }\n",
       "\n",
       "    .dataframe tbody tr th {\n",
       "        vertical-align: top;\n",
       "    }\n",
       "\n",
       "    .dataframe thead th {\n",
       "        text-align: right;\n",
       "    }\n",
       "</style>\n",
       "<table border=\"1\" class=\"dataframe\">\n",
       "  <thead>\n",
       "    <tr style=\"text-align: right;\">\n",
       "      <th></th>\n",
       "      <th>Anime</th>\n",
       "      <th>Score</th>\n",
       "      <th>Members</th>\n",
       "    </tr>\n",
       "  </thead>\n",
       "  <tbody>\n",
       "    <tr>\n",
       "      <th>0</th>\n",
       "      <td>Code Geass: Hangyaku no Lelouch</td>\n",
       "      <td>\\n        8.76\\n</td>\n",
       "      <td>\\n        1,209,472\\n</td>\n",
       "    </tr>\n",
       "    <tr>\n",
       "      <th>1</th>\n",
       "      <td>Code Geass: Hangyaku no Lelouch R2</td>\n",
       "      <td>\\n        8.93\\n</td>\n",
       "      <td>\\n        974,767\\n</td>\n",
       "    </tr>\n",
       "    <tr>\n",
       "      <th>2</th>\n",
       "      <td>Cowboy Bebop</td>\n",
       "      <td>\\n        8.81\\n</td>\n",
       "      <td>\\n        910,419\\n</td>\n",
       "    </tr>\n",
       "    <tr>\n",
       "      <th>3</th>\n",
       "      <td>Gintama</td>\n",
       "      <td>\\n        8.97\\n</td>\n",
       "      <td>\\n        568,747\\n</td>\n",
       "    </tr>\n",
       "    <tr>\n",
       "      <th>4</th>\n",
       "      <td>Accel World</td>\n",
       "      <td>\\n        7.45\\n</td>\n",
       "      <td>\\n        509,230\\n</td>\n",
       "    </tr>\n",
       "  </tbody>\n",
       "</table>\n",
       "</div>"
      ],
      "text/plain": [
       "                                Anime                   Score  \\\n",
       "0     Code Geass: Hangyaku no Lelouch  \\n        8.76\\n         \n",
       "1  Code Geass: Hangyaku no Lelouch R2  \\n        8.93\\n         \n",
       "2                        Cowboy Bebop  \\n        8.81\\n         \n",
       "3                             Gintama  \\n        8.97\\n         \n",
       "4                         Accel World  \\n        7.45\\n         \n",
       "\n",
       "                       Members  \n",
       "0  \\n        1,209,472\\n        \n",
       "1    \\n        974,767\\n        \n",
       "2    \\n        910,419\\n        \n",
       "3    \\n        568,747\\n        \n",
       "4    \\n        509,230\\n        "
      ]
     },
     "execution_count": 33,
     "metadata": {},
     "output_type": "execute_result"
    }
   ],
   "source": [
    "Sunrise_DB.head()"
   ]
  },
  {
   "cell_type": "code",
   "execution_count": 34,
   "metadata": {},
   "outputs": [],
   "source": [
    "#Looks like there needs to be little data cleaning like removing new line, comma etc\n",
    "Sunrise_DB['Score']=Sunrise_DB['Score'].str.replace('[\\n]',\"\")"
   ]
  },
  {
   "cell_type": "code",
   "execution_count": 35,
   "metadata": {},
   "outputs": [],
   "source": [
    "Sunrise_DB['Members']=Sunrise_DB['Members'].str.replace('[\\n,]',\"\")"
   ]
  },
  {
   "cell_type": "code",
   "execution_count": 36,
   "metadata": {},
   "outputs": [],
   "source": [
    "Sunrise_DB['Score']=Sunrise_DB['Score'].str.strip()"
   ]
  },
  {
   "cell_type": "code",
   "execution_count": 37,
   "metadata": {},
   "outputs": [],
   "source": [
    "Sunrise_DB['Members']=Sunrise_DB['Members'].str.strip()"
   ]
  },
  {
   "cell_type": "code",
   "execution_count": 38,
   "metadata": {},
   "outputs": [],
   "source": [
    "Sunrise_DB['Score']=Sunrise_DB['Score'].str.replace('[N/A]',\"\")"
   ]
  },
  {
   "cell_type": "code",
   "execution_count": 41,
   "metadata": {},
   "outputs": [
    {
     "data": {
      "text/html": [
       "<div>\n",
       "<style scoped>\n",
       "    .dataframe tbody tr th:only-of-type {\n",
       "        vertical-align: middle;\n",
       "    }\n",
       "\n",
       "    .dataframe tbody tr th {\n",
       "        vertical-align: top;\n",
       "    }\n",
       "\n",
       "    .dataframe thead th {\n",
       "        text-align: right;\n",
       "    }\n",
       "</style>\n",
       "<table border=\"1\" class=\"dataframe\">\n",
       "  <thead>\n",
       "    <tr style=\"text-align: right;\">\n",
       "      <th></th>\n",
       "      <th>Anime</th>\n",
       "      <th>Score</th>\n",
       "      <th>Members</th>\n",
       "    </tr>\n",
       "  </thead>\n",
       "  <tbody>\n",
       "    <tr>\n",
       "      <th>0</th>\n",
       "      <td>Code Geass: Hangyaku no Lelouch</td>\n",
       "      <td>8.76</td>\n",
       "      <td>1209472</td>\n",
       "    </tr>\n",
       "    <tr>\n",
       "      <th>1</th>\n",
       "      <td>Code Geass: Hangyaku no Lelouch R2</td>\n",
       "      <td>8.93</td>\n",
       "      <td>974767</td>\n",
       "    </tr>\n",
       "    <tr>\n",
       "      <th>2</th>\n",
       "      <td>Cowboy Bebop</td>\n",
       "      <td>8.81</td>\n",
       "      <td>910419</td>\n",
       "    </tr>\n",
       "    <tr>\n",
       "      <th>3</th>\n",
       "      <td>Gintama</td>\n",
       "      <td>8.97</td>\n",
       "      <td>568747</td>\n",
       "    </tr>\n",
       "    <tr>\n",
       "      <th>4</th>\n",
       "      <td>Accel World</td>\n",
       "      <td>7.45</td>\n",
       "      <td>509230</td>\n",
       "    </tr>\n",
       "  </tbody>\n",
       "</table>\n",
       "</div>"
      ],
      "text/plain": [
       "                                Anime Score  Members\n",
       "0     Code Geass: Hangyaku no Lelouch  8.76  1209472\n",
       "1  Code Geass: Hangyaku no Lelouch R2  8.93   974767\n",
       "2                        Cowboy Bebop  8.81   910419\n",
       "3                             Gintama  8.97   568747\n",
       "4                         Accel World  7.45   509230"
      ]
     },
     "execution_count": 41,
     "metadata": {},
     "output_type": "execute_result"
    }
   ],
   "source": [
    "Sunrise_DB.head()"
   ]
  }
 ],
 "metadata": {
  "kernelspec": {
   "display_name": "Python 3",
   "language": "python",
   "name": "python3"
  },
  "language_info": {
   "codemirror_mode": {
    "name": "ipython",
    "version": 3
   },
   "file_extension": ".py",
   "mimetype": "text/x-python",
   "name": "python",
   "nbconvert_exporter": "python",
   "pygments_lexer": "ipython3",
   "version": "3.7.2"
  }
 },
 "nbformat": 4,
 "nbformat_minor": 2
}
